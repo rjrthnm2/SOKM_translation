{
 "cells": [
  {
   "cell_type": "code",
   "execution_count": 3,
   "id": "002ce72d",
   "metadata": {},
   "outputs": [
    {
     "name": "stdout",
     "output_type": "stream",
     "text": [
      "SRT file 'D:\\SOKM\\11 Identity 2 SoKM 2024 - 2025\\11 Identity 2 SoKM 2024 - 2025_audio_english_v3_translated_d_openai_gpt_4_1_pv1.1_subtitles.srt' has been created successfully.\n"
     ]
    }
   ],
   "source": [
    "import pandas as pd\n",
    "import math\n",
    "\n",
    "# Load the CSV file\n",
    "file_path = r\"D:\\SOKM\\11 Identity 2 SoKM 2024 - 2025\\11 Identity 2 SoKM 2024 - 2025_audio_english_v3_translated_d_openai_gpt_4_1_pv1.1.csv\"\n",
    "# Try different encodings to handle the UnicodeDecodeError\n",
    "try:\n",
    "    df = pd.read_csv(file_path, encoding='utf-8')\n",
    "except UnicodeDecodeError:\n",
    "    try:\n",
    "        df = pd.read_csv(file_path, encoding='latin-1')\n",
    "    except UnicodeDecodeError:\n",
    "        try:\n",
    "            df = pd.read_csv(file_path, encoding='cp1252')\n",
    "        except UnicodeDecodeError:\n",
    "            df = pd.read_csv(file_path, encoding='utf-8', errors='ignore')\n",
    "            print(\"Warning: Some characters may have been ignored due to encoding issues.\")\n",
    "\n",
    "# Correct column names identified from the previous step\n",
    "start_time_col = 'Segment Start'\n",
    "end_time_col = 'Segment End'\n",
    "# subtitle_col = 'Translation_nativespeaker'\n",
    "subtitle_col = 'Translated Text'\n",
    "\n",
    "def convert_to_srt_time(time_in_seconds):\n",
    "    \"\"\"Converts time in seconds to SRT time format (HH:MM:SS,ms).\"\"\"\n",
    "    if not isinstance(time_in_seconds, (int, float)) or math.isnan(time_in_seconds):\n",
    "        return \"00:00:00,000\"\n",
    "\n",
    "    milliseconds = int(round((time_in_seconds - int(time_in_seconds)) * 1000))\n",
    "    seconds = int(time_in_seconds)\n",
    "    minutes = seconds // 60\n",
    "    hours = minutes // 60\n",
    "    seconds = seconds % 60\n",
    "    minutes = minutes % 60\n",
    "    return f\"{hours:02d}:{minutes:02d}:{seconds:02d},{milliseconds:03d}\"\n",
    "\n",
    "# Create the SRT content\n",
    "srt_content = \"\"\n",
    "subtitle_index = 1\n",
    "for index, row in df.iterrows():\n",
    "    start_time_val = row[start_time_col]\n",
    "    end_time_val = row[end_time_col]\n",
    "    subtitle_text = row[subtitle_col]\n",
    "\n",
    "    # Skip rows where subtitle text is empty or not a string\n",
    "    if not isinstance(subtitle_text, str) or not subtitle_text.strip():\n",
    "        continue\n",
    "\n",
    "    start_time = convert_to_srt_time(start_time_val)\n",
    "    end_time = convert_to_srt_time(end_time_val)\n",
    "\n",
    "    srt_content += f\"{subtitle_index}\\n\"\n",
    "    srt_content += f\"{start_time} --> {end_time}\\n\"\n",
    "    srt_content += f\"{subtitle_text}\\n\\n\"\n",
    "    subtitle_index += 1\n",
    "\n",
    "# Define the output file name to be the same as the original file but with .srt extension and '_subtitles' at the end\n",
    "srt_file_name = file_path.replace('.csv', '_subtitles.srt')\n",
    "\n",
    "# Write the content to the .srt file\n",
    "with open(srt_file_name, 'w', encoding='utf-8-sig') as f:\n",
    "    f.write(srt_content)\n",
    "\n",
    "print(f\"SRT file '{srt_file_name}' has been created successfully.\")"
   ]
  },
  {
   "cell_type": "markdown",
   "id": "d99f151d",
   "metadata": {},
   "source": [
    "Burn in video"
   ]
  },
  {
   "cell_type": "code",
   "execution_count": 14,
   "id": "63a76a1d",
   "metadata": {},
   "outputs": [
    {
     "name": "stdout",
     "output_type": "stream",
     "text": [
      "Running command:\n",
      " ffmpeg -i 'D:\\SOKM\\Testing\\01 Introduction SoKM 2024 - 2025 4k_480p_2m30s.mp4' -vf 'subtitles=file='\"'\"'D\\:/SOKM/01 Introduction SoKM 2024 - 2025 4k_audio_english_fixed.srt'\"'\"':force_style='\"'\"'FontName=Lato,FontSize=22,PrimaryColour=&H00FFFFFF&,BorderStyle=3,OutlineColour=&H99000000,Shadow=1'\"'\"'' -y testing_burned.mp4 \n",
      "\n",
      "❌  FFmpeg failed\n",
      "None\n"
     ]
    }
   ],
   "source": [
    "import subprocess, os, shlex\n",
    "\n",
    "def burn_subtitles(video_in: str, srt_in: str, video_out: str,\n",
    "                   style: str | None = None) -> None:\n",
    "    if not os.path.exists(video_in):\n",
    "        print(f\"❌  Video not found: {video_in}\"); return\n",
    "    if not os.path.exists(srt_in):\n",
    "        print(f\"❌  Subtitle file not found: {srt_in}\"); return\n",
    "\n",
    "    # 1️⃣ normalise to forward-slashes, 2️⃣ escape the drive-letter colon\n",
    "    sub_path = srt_in.replace(\"\\\\\", \"/\").replace(\":\", r\"\\:\")\n",
    "\n",
    "    vf = f\"subtitles=file='{sub_path}'\"\n",
    "    if style:\n",
    "        vf += f\":force_style='{style}'\"\n",
    "\n",
    "    cmd = [\n",
    "        \"ffmpeg\",\n",
    "        \"-i\", video_in,\n",
    "        \"-vf\", vf,      # filtergraph is *one* argument\n",
    "        \"-y\",           # overwrite without asking\n",
    "        video_out\n",
    "    ]\n",
    "\n",
    "    print(\"Running command:\\n\", shlex.join(cmd), \"\\n\")\n",
    "    try:\n",
    "        subprocess.run(cmd, check=True)\n",
    "        print(f\"✅  Finished → {video_out}\")\n",
    "    except subprocess.CalledProcessError as e:\n",
    "        print(\"❌  FFmpeg failed\")\n",
    "        print(e.stderr or e.stdout)\n",
    "\n",
    "if __name__ == \"__main__\":\n",
    "    burn_subtitles(\n",
    "        r\"D:\\SOKM\\Testing\\01 Introduction SoKM 2024 - 2025 4k_480p_2m30s.mp4\",\n",
    "        r\"D:\\SOKM\\01 Introduction SoKM 2024 - 2025 4k_audio_english_fixed.srt\",\n",
    "        \"testing_burned.mp4\",\n",
    "        \"FontName=Lato,FontSize=22,PrimaryColour=&H00FFFFFF&,BorderStyle=3,OutlineColour=&H99000000,Shadow=1\"\n",
    "    )\n"
   ]
  },
  {
   "cell_type": "code",
   "execution_count": 7,
   "id": "8bd8402c",
   "metadata": {},
   "outputs": [
    {
     "name": "stdout",
     "output_type": "stream",
     "text": [
      "output_video_styled: D:\\SOKM\\Testing\\01 Introduction SoKM 2024 - 2025 4k_480p_2m30s_burned.mp4\n"
     ]
    }
   ],
   "source": [
    "print(\"output_video_styled:\", output_video_styled)"
   ]
  }
 ],
 "metadata": {
  "kernelspec": {
   "display_name": "whisperx",
   "language": "python",
   "name": "python3"
  },
  "language_info": {
   "codemirror_mode": {
    "name": "ipython",
    "version": 3
   },
   "file_extension": ".py",
   "mimetype": "text/x-python",
   "name": "python",
   "nbconvert_exporter": "python",
   "pygments_lexer": "ipython3",
   "version": "3.10.16"
  }
 },
 "nbformat": 4,
 "nbformat_minor": 5
}
